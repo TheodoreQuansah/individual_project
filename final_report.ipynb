{
 "cells": [
  {
   "cell_type": "markdown",
   "id": "d117bf26-17f9-458d-888d-28e30edd0cab",
   "metadata": {},
   "source": [
    "# Exploring Predictive Factors for Heart Disease: A Comprehensive Data Analysis"
   ]
  },
  {
   "cell_type": "markdown",
   "id": "0fb64ec5-f398-4609-b44d-d9b0f6e7ef8b",
   "metadata": {},
   "source": [
    "## project goal\n",
    "- Investigate Heart Disease Predictive Factors\n",
    "- Perform statistical tests\n",
    "- Build a Predictive Model"
   ]
  },
  {
   "cell_type": "code",
   "execution_count": 1,
   "id": "43af9b2c-0a07-433b-a41b-1f783f4a63fb",
   "metadata": {},
   "outputs": [],
   "source": [
    "import warnings\n",
    "\n",
    "import pandas as pd\n",
    "import seaborn as sns\n",
    "import matplotlib.pyplot as plt\n",
    "import scipy.stats as stats\n",
    "\n",
    "from scipy.stats import chi2_contingency\n",
    "from explore import smoking_vs_heartdisease, stats_test, BMI_vs_heartdisease, pa_vs_heartdisease, pa_stats_test, age_vs_heartdisease, sleeptime_boxplot, sleeptime_vs_heartdisease\n",
    "from prepare import format_column_names, split_data, drop_outliers_iqr_all_columns\n",
    "from wrangle import minmax_scale, one_hot_encode_and_rename, data_split, baseline\n",
    "from model import train_decision_tree, train_knn, train_logistic_regression, train_random_forest, test_logistic_regression\n",
    "\n",
    "warnings.filterwarnings('ignore')"
   ]
  },
  {
   "cell_type": "markdown",
   "id": "02a6b6e7-07a5-4b9e-a221-5a5adc753e15",
   "metadata": {},
   "source": [
    "## Acquire"
   ]
  },
  {
   "cell_type": "markdown",
   "id": "4f9c5b08-f36b-483b-bed3-00635ef87c08",
   "metadata": {},
   "source": [
    "- Acquired Data from Kaggle.\n",
    "- Read data into pandas as a csv\n",
    "- Dataset consists of a total of 319,795 rows and 18 columns."
   ]
  },
  {
   "cell_type": "markdown",
   "id": "6997ed12-36c3-4773-a522-7745aac67d7e",
   "metadata": {},
   "source": [
    "## Prepare"
   ]
  },
  {
   "cell_type": "markdown",
   "id": "bacb02d9-d677-4ed0-b7ab-5668a0ef9d83",
   "metadata": {},
   "source": [
    "- Initial Data Exploration.\n",
    "- Data Inspection.\n",
    "- Data Integrity.\n",
    "- Data Type Conversion.\n",
    "- Handled Missing Values and Duplicates.\n",
    "- Split Data into Train, Val and Test."
   ]
  },
  {
   "cell_type": "markdown",
   "id": "c3bd9cd9-c24f-4c66-a970-446813cb7b68",
   "metadata": {},
   "source": [
    "## Data Dictionary\n",
    "\n",
    "\n",
    "| Feature                | Definition | Data Type |\n",
    "|:-----------------------|:-----------|:----------|\n",
    "| HeartDisease           | Presence of Heart Disease (Target Variable) | Categorical (Binary) |\n",
    "| BMI                    | Body Mass Index (BMI) | Numeric (Continuous) |\n",
    "| Smoking                | Smoking Status (Yes/No) | Categorical (Binary) |\n",
    "| AlcoholDrinking        | Alcohol Drinking Status (Yes/No) | Categorical (Binary) |\n",
    "| Stroke                 | History of Stroke (Yes/No) | Categorical (Binary) |\n",
    "| PhysicalHealth         | Physical Health Score | Numeric (Continuous) |\n",
    "| MentalHealth           | Mental Health Score | Numeric (Continuous) |\n",
    "| DiffWalking            | Difficulty Walking (Yes/No) | Categorical (Binary) |\n",
    "| Sex                    | Gender (Male/Female) | Categorical |\n",
    "| AgeCategory            | Age Category | Categorical |\n",
    "| Race                   | Race | Categorical |\n",
    "| Diabetic               | Diabetic Status (Yes/No) | Categorical (Binary) |\n",
    "| PhysicalActivity       | Physical Activity Status (Yes/No) | Categorical (Binary) |\n",
    "| GenHealth              | General Health Rating | Categorical |\n",
    "| SleepTime              | Average Sleep Time (hours) | Numeric (Continuous) |\n",
    "| Asthma                 | Asthma Diagnosis (Yes/No) | Categorical (Binary) |\n",
    "| KidneyDisease          | Kidney Disease Diagnosis (Yes/No) | Categorical (Binary) |\n",
    "| SkinCancer             | Skin Cancer Diagnosis (Yes/No) | Categorical (Binary) |"
   ]
  },
  {
   "cell_type": "code",
   "execution_count": 2,
   "id": "8a1e196f-1138-4965-9911-4577dbf257e3",
   "metadata": {},
   "outputs": [],
   "source": [
    "df = pd.read_csv('heart_disease.csv')"
   ]
  },
  {
   "cell_type": "code",
   "execution_count": 3,
   "id": "9d665a64-1b6e-4803-b655-69597315370d",
   "metadata": {},
   "outputs": [],
   "source": [
    "df = format_column_names(df)"
   ]
  },
  {
   "cell_type": "code",
   "execution_count": 4,
   "id": "7846659e-ef6e-4ae1-af52-52e89c44e300",
   "metadata": {},
   "outputs": [],
   "source": [
    "# Assuming 'df' is your DataFrame\n",
    "df = drop_outliers_iqr_all_columns(df)"
   ]
  },
  {
   "cell_type": "code",
   "execution_count": 5,
   "id": "8f732337-df82-402b-993f-1861b5ce8c7e",
   "metadata": {},
   "outputs": [],
   "source": [
    "train, val, test = split_data(df)"
   ]
  },
  {
   "cell_type": "markdown",
   "id": "afc902a7-f4f4-431f-b652-64d78fb0b2ba",
   "metadata": {},
   "source": [
    "## A concise summary of the data"
   ]
  },
  {
   "cell_type": "code",
   "execution_count": 6,
   "id": "73678534-5fc2-417d-b2b7-2dbb4940f013",
   "metadata": {},
   "outputs": [
    {
     "name": "stdout",
     "output_type": "stream",
     "text": [
      "<class 'pandas.core.frame.DataFrame'>\n",
      "Index: 161714 entries, 47168 to 168874\n",
      "Data columns (total 18 columns):\n",
      " #   Column             Non-Null Count   Dtype  \n",
      "---  ------             --------------   -----  \n",
      " 0   heart_disease      161714 non-null  object \n",
      " 1   b_m_i              161714 non-null  float64\n",
      " 2   smoking            161714 non-null  object \n",
      " 3   alcohol_drinking   161714 non-null  object \n",
      " 4   stroke             161714 non-null  object \n",
      " 5   physical_health    161714 non-null  float64\n",
      " 6   mental_health      161714 non-null  float64\n",
      " 7   diff_walking       161714 non-null  object \n",
      " 8   sex                161714 non-null  object \n",
      " 9   age_category       161714 non-null  object \n",
      " 10  race               161714 non-null  object \n",
      " 11  diabetic           161714 non-null  object \n",
      " 12  physical_activity  161714 non-null  object \n",
      " 13  gen_health         161714 non-null  object \n",
      " 14  sleep_time         161714 non-null  float64\n",
      " 15  asthma             161714 non-null  object \n",
      " 16  kidney_disease     161714 non-null  object \n",
      " 17  skin_cancer        161714 non-null  object \n",
      "dtypes: float64(4), object(14)\n",
      "memory usage: 23.4+ MB\n"
     ]
    }
   ],
   "source": [
    "train.info()"
   ]
  },
  {
   "cell_type": "markdown",
   "id": "ef31f24f-8fdb-4a42-8a6e-a6858ca303ac",
   "metadata": {},
   "source": [
    "### Explore"
   ]
  },
  {
   "cell_type": "markdown",
   "id": "4fbd5911-3f3b-4828-b59b-fa17543eae53",
   "metadata": {},
   "source": [
    "#  Does smoking status have a significant association with the presence of heart disease?"
   ]
  },
  {
   "cell_type": "code",
   "execution_count": 7,
   "id": "b4159ca8-0353-46b0-9d61-6cc4a49c8c34",
   "metadata": {},
   "outputs": [
    {
     "data": {
      "image/png": "[encoded data removed]",
      "text/plain": [
       "<Figure size 800x600 with 1 Axes>"
      ]
     },
     "metadata": {},
     "output_type": "display_data"
    }
   ],
   "source": [
    "#bar chart for smoking vs heart disease\n",
    "smoking_vs_heartdisease(df)"
   ]
  },
  {
   "cell_type": "markdown",
   "id": "29441774-fccc-45fa-9619-7911d7aff2b8",
   "metadata": {},
   "source": [
    "#### Takeaway from bar plot\n",
    "\n",
    "- The percentage of non_smokers that get heart disease are exponentially lower than those who smoke."
   ]
  },
  {
   "cell_type": "markdown",
   "id": "ca05cb32-b7f8-4319-b675-d570db106b81",
   "metadata": {},
   "source": [
    "#### - Null Hypothesis (H0): There is no significant association between smoking status and the presence of heart disease.\n",
    "#### - Alternative Hypothesis (H1): There is a significant association between smoking status and the presence of heart disease. "
   ]
  },
  {
   "cell_type": "code",
   "execution_count": 8,
   "id": "17946b56-1bdb-4bd2-b65d-c479db0da63c",
   "metadata": {},
   "outputs": [
    {
     "name": "stdout",
     "output_type": "stream",
     "text": [
      "Chi-squared value: 2127.311954273309\n",
      "P-value: 0.0\n",
      "Reject the null hypothesis: There is a significant association between smoking and heart disease.\n"
     ]
    }
   ],
   "source": [
    "#Chi2 test between smoking and heart disease\n",
    "stats_test(df, 'smoking')"
   ]
  },
  {
   "cell_type": "markdown",
   "id": "97ef7882-4f53-45a1-be8e-72978dba7096",
   "metadata": {},
   "source": [
    "Key takeaway from test\n",
    "-  The data strongly suggests that smoking status has a significant impact on the likelihood of having heart disease.\n",
    "-  The Chi-squared value of 2127.31 suggests a substantial statistical association or dependency between two categorical variables.\n",
    "-  The extremely low p-value of 0.0 indicates that the observed association between smoking status and heart disease is highly unlikely to have occurred by chance."
   ]
  },
  {
   "cell_type": "markdown",
   "id": "9f8e24f5-7259-41b4-bcd3-4bd56efe5a03",
   "metadata": {},
   "source": [
    "# Is there a statistically significant association between BMI and the presence of heart disease?"
   ]
  },
  {
   "cell_type": "code",
   "execution_count": 9,
   "id": "55314df5-4604-4d74-9506-ff0223b286db",
   "metadata": {},
   "outputs": [
    {
     "data": {
      "image/png": "[encoded data removed]",
      "text/plain": [
       "<Figure size 800x600 with 1 Axes>"
      ]
     },
     "metadata": {},
     "output_type": "display_data"
    }
   ],
   "source": [
    "BMI_vs_heartdisease(df)"
   ]
  },
  {
   "cell_type": "markdown",
   "id": "7f6c2911-5039-4508-9033-4d9b89617d17",
   "metadata": {},
   "source": [
    "Takeaway from the box plot\n",
    "- A higher BMI slightly increases the chances of getting heart disease."
   ]
  },
  {
   "cell_type": "markdown",
   "id": "732164ab-1d8c-4f4e-a303-a9cc4c266d05",
   "metadata": {},
   "source": [
    "- Null Hypothesis (H0): There is no significant association between BMI and the presence of heart disease.\n",
    "- Alternative Hypothesis (H1): There is a statistically significant association between BMI and the presence of heart disease."
   ]
  },
  {
   "cell_type": "code",
   "execution_count": 10,
   "id": "5817189d-0464-4de8-bfc0-5c484fb1e5cb",
   "metadata": {},
   "outputs": [
    {
     "name": "stdout",
     "output_type": "stream",
     "text": [
      "Chi-squared value: 3907.5462588268133\n",
      "P-value: 1.883019476859168e-87\n",
      "Reject the null hypothesis: There is a significant association between b_m_i and heart disease.\n"
     ]
    }
   ],
   "source": [
    "stats_test(df, 'b_m_i')"
   ]
  },
  {
   "cell_type": "markdown",
   "id": "f7549a8a-7df8-4661-b998-e9c3907f734b",
   "metadata": {},
   "source": [
    "Key takeaway from test\n",
    "- The Chi-squared statistic of 3907.55 indicates a strong statistical association or dependency between two categorical variables.\n",
    "- The observed association between BMI and heart disease is highly unlikely to have occurred by chance due to the extremely low p_value.\n",
    "- The data strongly suggests that BMI is significantly associated with the presence of heart disease, indicating that individuals' BMI levels can impact their risk of heart disease."
   ]
  },
  {
   "cell_type": "markdown",
   "id": "3d29d1a2-a0b8-4761-bae0-c1c09459adbf",
   "metadata": {},
   "source": [
    "# Is there a significant association between physical activity and the presence of heart disease among individuals?"
   ]
  },
  {
   "cell_type": "code",
   "execution_count": 11,
   "id": "b35f4ccf-c878-4a3a-8953-c2e3fb4e4f1a",
   "metadata": {},
   "outputs": [
    {
     "data": {
      "image/png": "[encoded data removed]",
      "text/plain": [
       "<Figure size 800x600 with 1 Axes>"
      ]
     },
     "metadata": {},
     "output_type": "display_data"
    }
   ],
   "source": [
    "pa_vs_heartdisease(df)"
   ]
  },
  {
   "cell_type": "markdown",
   "id": "3411bf8a-c769-4354-a24d-90f2676c712d",
   "metadata": {},
   "source": [
    "Takeaway from bar plot\n",
    "- From the plot, the percentage of people that indulge in physical activity and have heart_disease are moderately lower than people that do not indulge in physical activity."
   ]
  },
  {
   "cell_type": "markdown",
   "id": "0b05c3e3-99d9-4600-91c5-04b232c7dc13",
   "metadata": {},
   "source": [
    "- Null Hypothesis (H0): There is no significant association between physical activity and heart disease; they are independent of each other.\n",
    "- Alternative Hypothesis (H1): There is a significant association between physical activity and heart disease; they are not independent of each other."
   ]
  },
  {
   "cell_type": "code",
   "execution_count": 12,
   "id": "dfb76b2c-95a5-4b86-ae0c-34a78136c5d2",
   "metadata": {},
   "outputs": [
    {
     "name": "stdout",
     "output_type": "stream",
     "text": [
      "Chi-squared statistic: 856.5685913037502\n",
      "P-value: 2.7136082816237772e-188\n",
      "Degrees of freedom: 1\n",
      "Expected frequencies table:\n",
      "[[ 38579.04621678   2843.95378322]\n",
      " [176579.95378322  13017.04621678]]\n"
     ]
    }
   ],
   "source": [
    "pa_stats_test(df)"
   ]
  },
  {
   "cell_type": "markdown",
   "id": "d48732d8-83d3-4a44-82c9-2db2f3a6a943",
   "metadata": {},
   "source": [
    "Key takeaway from test\n",
    "- The Chi-squared statistic of 856.57 is relatively high, indicating a substantial statistical association or dependency between two categorical variables.\n",
    "- The observed association between the two variables is highly unlikely to have occurred by chance due to the extremely low p_value.\n",
    "- The expected frequencies table shows the expected counts for each combination of categories in the two variables. It helps understand what would be expected if there were no association between the variables.\n",
    "- The data suggests that they are not independent, and changes in one variable are associated with changes in the other."
   ]
  },
  {
   "cell_type": "markdown",
   "id": "3406562c-606f-4020-b0a1-55fe02e61b07",
   "metadata": {},
   "source": [
    "# Does age category have a significant association with the occurrence of heart disease"
   ]
  },
  {
   "cell_type": "code",
   "execution_count": 13,
   "id": "2a578167-8102-4f50-9e7e-c6b15e959166",
   "metadata": {},
   "outputs": [
    {
     "data": {
      "image/png": "[encoded data removed]",
      "text/plain": [
       "<Figure size 1000x600 with 1 Axes>"
      ]
     },
     "metadata": {},
     "output_type": "display_data"
    }
   ],
   "source": [
    "age_vs_heartdisease(df)"
   ]
  },
  {
   "cell_type": "markdown",
   "id": "ae51d802-e39b-4002-8dc1-2d73eaa57b7a",
   "metadata": {},
   "source": [
    "Takeaway from bar plot\n",
    "- The older an individual is, the higher their chances of having heart disease."
   ]
  },
  {
   "cell_type": "markdown",
   "id": "ba85507e-0c56-4dac-aadf-97a25bd979a5",
   "metadata": {},
   "source": [
    "- Null Hypothesis (H0): There is no significant association between age category and the presence of heart disease in the population.\n",
    "- Alternative Hypothesis (H1): There is a significant association between age category and the presence of heart disease in the population."
   ]
  },
  {
   "cell_type": "code",
   "execution_count": 14,
   "id": "ea3fb29b-ed81-4301-aaa2-9aa05fdc08a5",
   "metadata": {},
   "outputs": [
    {
     "name": "stdout",
     "output_type": "stream",
     "text": [
      "Chi-squared value: 13432.163730982615\n",
      "P-value: 0.0\n",
      "Reject the null hypothesis: There is a significant association between age_category and heart disease.\n"
     ]
    }
   ],
   "source": [
    "stats_test(df, 'age_category')"
   ]
  },
  {
   "cell_type": "markdown",
   "id": "942a99c0-b6d8-4e1f-a660-2deba2418e28",
   "metadata": {},
   "source": [
    "Key takeaways from test\n",
    "- The analysis shows that age category plays a crucial role in heart disease.\n",
    "- The findings imply that as individuals age, the risk of developing heart disease tends to increase significantly.\n",
    "- The observed association between the two variables is highly unlikely to have occurred by chance due to the extremely low p_value."
   ]
  },
  {
   "cell_type": "markdown",
   "id": "8d68b0e2-ace7-4ea5-8868-8f3ac0c80c42",
   "metadata": {},
   "source": [
    "#  Is there a significant association between sleep time and the presence of heart disease?"
   ]
  },
  {
   "cell_type": "code",
   "execution_count": 15,
   "id": "b37ba48d-8f98-4390-8d74-cce920cd344f",
   "metadata": {},
   "outputs": [
    {
     "data": {
      "image/png": "[encoded data removed]",
      "text/plain": [
       "<Figure size 800x600 with 1 Axes>"
      ]
     },
     "metadata": {},
     "output_type": "display_data"
    }
   ],
   "source": [
    "sleeptime_boxplot(df)"
   ]
  },
  {
   "cell_type": "markdown",
   "id": "65a9e279-ed8f-4ba2-b123-96f76c2e11c6",
   "metadata": {},
   "source": [
    "Takeaway from box plot\n",
    "- The identical box plots for sleep time and heart disease suggest that there is no discernible difference in sleep duration between individuals with and without heart disease in the dataset.\n",
    "-  Sleep time alone may not serve as a strong predictor or risk factor for heart disease in the dataset."
   ]
  },
  {
   "cell_type": "markdown",
   "id": "d679a449-ba5f-40a5-b77c-5dde46146612",
   "metadata": {},
   "source": [
    "- Null Hypothesis ($H_0$): There is no significant association between sleep time and heart disease.\n",
    "- Alternative Hypothesis ($H_1$): There is a significant association between sleep time and heart disease."
   ]
  },
  {
   "cell_type": "code",
   "execution_count": 16,
   "id": "e911034b-466e-490d-95ee-7a0c11d2c65b",
   "metadata": {},
   "outputs": [
    {
     "name": "stdout",
     "output_type": "stream",
     "text": [
      "Chi-squared statistic: 618.1982399145181\n",
      "Degrees of freedom: 8\n",
      "p-value: 2.8597085251964127e-128\n"
     ]
    }
   ],
   "source": [
    "sleeptime_vs_heartdisease(df)"
   ]
  },
  {
   "cell_type": "markdown",
   "id": "c667faa7-4e3c-4ffd-9155-3111e82e93cb",
   "metadata": {},
   "source": []
  },
  {
   "cell_type": "markdown",
   "id": "adbca5aa-c897-4f23-81e5-15970154ad26",
   "metadata": {},
   "source": [
    "## Exploration summary"
   ]
  },
  {
   "cell_type": "markdown",
   "id": "ff961903-aa34-4cf6-9186-8ba24101f903",
   "metadata": {},
   "source": [
    "Exploration Summary:\n",
    "\n",
    "- Smoking vs. Heart Disease:\n",
    "  - The bar plot reveals a significant disparity in heart disease prevalence between smokers and non-smokers, with non-smokers having considerably lower rates.\n",
    "  - Statistical analysis affirms the substantial impact of smoking on heart disease risk, supported by a high Chi-squared value (2127.31) and an extremely low p-value (0.0).\n",
    "  \n",
    "- BMI vs. Heart Disease:\n",
    "  - The box plot highlights a slight increase in heart disease risk with higher BMI levels.\n",
    "  - Statistical testing underscores the significant association between BMI and heart disease, evidenced by a robust Chi-squared statistic (3907.55) and an extremely low p-value.\n",
    "  \n",
    "- Physical Activity vs. Heart Disease:\n",
    "  - The bar plot illustrates a moderate reduction in heart disease prevalence among individuals engaging in physical activity compared to those who do not.\n",
    "  - Statistical analysis confirms a meaningful connection between physical activity and heart disease, with a notable Chi-squared statistic (856.57) and an extremely low p-value.\n",
    "  \n",
    "- Age vs. Heart Disease:\n",
    "  - The bar plot depicts a clear age-related trend, where older individuals exhibit a higher likelihood of having heart disease.\n",
    "  - Statistical examination establishes the critical role of age category in heart disease risk, emphasizing that advancing age significantly increases the risk.\n",
    "  \n",
    "- Sleep Time vs. Heart Disease:\n",
    "  - The box plot suggests that sleep time alone may not be a strong predictor or risk factor for heart disease, as the plots for individuals with and without heart disease appear nearly identical.\n",
    "  - However, statistical testing contradicts this observation, revealing a significant association between sleep time and heart disease, supported by a high Chi-squared statistic (618.198) and an extremely low p-value.\n",
    "  \n",
    "Overall, our exploration indicates that smoking, BMI, physical activity, age, and sleep time are all associated with heart disease. Smoking and BMI are particularly strong predictors, while age also plays a substantial role. The relationship between sleep time and heart disease, though less evident visually, is statistically significant. These findings provide valuable insights into potential risk factors for heart disease in our dataset and underscore the importance of addressing these factors in preventive healthcare measures."
   ]
  },
  {
   "cell_type": "markdown",
   "id": "4503e768-2e5e-413e-8238-1671d32aa7ea",
   "metadata": {},
   "source": [
    "## Modeling"
   ]
  },
  {
   "cell_type": "markdown",
   "id": "258edcc9-e9f7-467a-86bf-835f0f17fda9",
   "metadata": {},
   "source": [
    "* Features for modeling\n",
    "    - heart_disease\n",
    "    - b_m_i\n",
    "    - smoking\n",
    "    - alcohol_drinking\n",
    "    - stroke\n",
    "    - physical_health\n",
    "    - mental_health\n",
    "    - diff_walking\n",
    "    - sex\n",
    "    - age_category\n",
    "    - race\n",
    "    - diabetic\n",
    "    - physical_activity\n",
    "    - gen_health\n",
    "    - sleep_time\n",
    "    - asthma\n",
    "    - kidney_disease\n",
    "    - skin_cancer\n",
    "\n",
    "  "
   ]
  },
  {
   "cell_type": "markdown",
   "id": "4bf79009-a04f-4156-9db7-6f32aadcfd72",
   "metadata": {},
   "source": [
    "### Goal:\n",
    "\n",
    "1. Establish a baseline to judge model efficiency against by implementing a simple, straightforward model to compare with more complex models.\n",
    "\n",
    "2. Create multiple models with varying complexities and approaches to predict heart disease.\n",
    "\n",
    "3. Determine the best three models based on their performance metrics when applied to the validation dataset.\n",
    "\n",
    "4. Assess the models created using four distinct model types (e.g., logistic regression, decision tree, random forest, and support vector machine) with a range of hyperparameter settings to ensure thorough exploration of model variations.\n",
    "\n",
    "5. Evaluate the model performance on both the training and validation datasets to understand how well they generalize to new data.\n",
    "\n",
    "6. The top-performing model, as determined by its performance on the validation dataset, will undergo further evaluation using the test dataset to confirm its robustness and suitability for deployment."
   ]
  },
  {
   "cell_type": "code",
   "execution_count": 17,
   "id": "c28cc4fa-30c7-4271-a784-2f8cced24525",
   "metadata": {},
   "outputs": [],
   "source": [
    "# Perform one-hot encoding and rename columns for train, validation, and test datasets\n",
    "train, val, test = one_hot_encode_and_rename(train, val, test)"
   ]
  },
  {
   "cell_type": "code",
   "execution_count": 18,
   "id": "f2dfef1f-5462-4bd1-95ac-50446c455d40",
   "metadata": {},
   "outputs": [],
   "source": [
    "# Perform Min-Max scaling on the features in train, validation, and test datasets\n",
    "train, val, test = minmax_scale(train, val, test)"
   ]
  },
  {
   "cell_type": "code",
   "execution_count": 19,
   "id": "c21e13ba-9dba-4f55-a9e8-a90a25647e87",
   "metadata": {},
   "outputs": [],
   "source": [
    "# Split the data into features (X) and target labels (y) for training, validation, and test datasets\n",
    "X_train, y_train = data_split(train, 'heart_disease')  # Training data\n",
    "X_val, y_val = data_split(val, 'heart_disease')      # Validation data\n",
    "X_test, y_test = data_split(test, 'heart_disease')    # Test data"
   ]
  },
  {
   "cell_type": "markdown",
   "id": "a9be3aa1-ac1e-4295-a118-560de375a887",
   "metadata": {},
   "source": [
    "#### Baseline"
   ]
  },
  {
   "cell_type": "code",
   "execution_count": 20,
   "id": "aff88899-460f-40b9-a4e9-d49170997471",
   "metadata": {},
   "outputs": [
    {
     "data": {
      "text/plain": [
       "81.36"
      ]
     },
     "execution_count": 20,
     "metadata": {},
     "output_type": "execute_result"
    }
   ],
   "source": [
    "baseline(y_train)"
   ]
  },
  {
   "cell_type": "markdown",
   "id": "60b81fdd-8d48-46cb-a129-bc585e5d68ca",
   "metadata": {},
   "source": [
    "### Model 1 (Decision Tree)"
   ]
  },
  {
   "cell_type": "code",
   "execution_count": 21,
   "id": "bb6c05b4-c9b4-4dc5-b542-c1148fd5b6b8",
   "metadata": {
    "scrolled": true
   },
   "outputs": [
    {
     "name": "stdout",
     "output_type": "stream",
     "text": [
      "Accuracy of Decision Tree on train data is 0.9354\n",
      "Accuracy of Decision Tree on validate data is 0.9301\n"
     ]
    },
    {
     "data": {
      "text/html": [
       "<div>\n",
       "<style scoped>\n",
       "    .dataframe tbody tr th:only-of-type {\n",
       "        vertical-align: middle;\n",
       "    }\n",
       "\n",
       "    .dataframe tbody tr th {\n",
       "        vertical-align: top;\n",
       "    }\n",
       "\n",
       "    .dataframe thead th {\n",
       "        text-align: right;\n",
       "    }\n",
       "</style>\n",
       "<table border=\"1\" class=\"dataframe\">\n",
       "  <thead>\n",
       "    <tr style=\"text-align: right;\">\n",
       "      <th></th>\n",
       "      <th>Feature</th>\n",
       "      <th>Importance</th>\n",
       "    </tr>\n",
       "  </thead>\n",
       "  <tbody>\n",
       "    <tr>\n",
       "      <th>28</th>\n",
       "      <td>stroke</td>\n",
       "      <td>0.146436</td>\n",
       "    </tr>\n",
       "    <tr>\n",
       "      <th>21</th>\n",
       "      <td>age_category_80 or older</td>\n",
       "      <td>0.120963</td>\n",
       "    </tr>\n",
       "    <tr>\n",
       "      <th>31</th>\n",
       "      <td>diabetic</td>\n",
       "      <td>0.098260</td>\n",
       "    </tr>\n",
       "  </tbody>\n",
       "</table>\n",
       "</div>"
      ],
      "text/plain": [
       "                     Feature  Importance\n",
       "28                    stroke    0.146436\n",
       "21  age_category_80 or older    0.120963\n",
       "31                  diabetic    0.098260"
      ]
     },
     "execution_count": 21,
     "metadata": {},
     "output_type": "execute_result"
    }
   ],
   "source": [
    "# Train a decision tree classifier using the training data and validate it on the validation data\n",
    "train_decision_tree(X_train, y_train, X_val, y_val)"
   ]
  },
  {
   "cell_type": "markdown",
   "id": "7d7cc5ef-4452-47da-b259-ac0a75807191",
   "metadata": {},
   "source": [
    "#### Decision Tree Takeaway\n",
    "- The Decision Tree model exhibits strong performance with an accuracy of 93.54% on the training data and 93.01% on the validation data.\n",
    "- Feature importance analysis reveals that `stroke` is the most influential predictor, followed by `age_category_80 or older` and `diabetic`.\n",
    "- The model's ability to accurately predict heart disease is primarily driven by these key features, providing valuable insights for understanding the factors contributing to heart disease risk."
   ]
  },
  {
   "cell_type": "markdown",
   "id": "1ee23ddd-24b7-4969-bd1e-7caccd32d996",
   "metadata": {},
   "source": [
    "### Model 2 (Random Forest)"
   ]
  },
  {
   "cell_type": "code",
   "execution_count": 22,
   "id": "55a7101d-b542-4397-aa4f-a9c3eb7c58d3",
   "metadata": {
    "scrolled": true
   },
   "outputs": [
    {
     "name": "stdout",
     "output_type": "stream",
     "text": [
      "Accuracy of Random Forest on train data is 0.9339\n",
      "Accuracy of Random Forest on validate data is 0.9324\n"
     ]
    },
    {
     "data": {
      "text/html": [
       "<div>\n",
       "<style scoped>\n",
       "    .dataframe tbody tr th:only-of-type {\n",
       "        vertical-align: middle;\n",
       "    }\n",
       "\n",
       "    .dataframe tbody tr th {\n",
       "        vertical-align: top;\n",
       "    }\n",
       "\n",
       "    .dataframe thead th {\n",
       "        text-align: right;\n",
       "    }\n",
       "</style>\n",
       "<table border=\"1\" class=\"dataframe\">\n",
       "  <thead>\n",
       "    <tr style=\"text-align: right;\">\n",
       "      <th></th>\n",
       "      <th>Feature</th>\n",
       "      <th>Importance</th>\n",
       "    </tr>\n",
       "  </thead>\n",
       "  <tbody>\n",
       "    <tr>\n",
       "      <th>0</th>\n",
       "      <td>b_m_i</td>\n",
       "      <td>0.142225</td>\n",
       "    </tr>\n",
       "    <tr>\n",
       "      <th>28</th>\n",
       "      <td>stroke</td>\n",
       "      <td>0.078871</td>\n",
       "    </tr>\n",
       "    <tr>\n",
       "      <th>21</th>\n",
       "      <td>age_category_80 or older</td>\n",
       "      <td>0.075736</td>\n",
       "    </tr>\n",
       "  </tbody>\n",
       "</table>\n",
       "</div>"
      ],
      "text/plain": [
       "                     Feature  Importance\n",
       "0                      b_m_i    0.142225\n",
       "28                    stroke    0.078871\n",
       "21  age_category_80 or older    0.075736"
      ]
     },
     "execution_count": 22,
     "metadata": {},
     "output_type": "execute_result"
    }
   ],
   "source": [
    "# Train a random forest classifier using the training data and validate it on the validation data\n",
    "train_random_forest(X_train, y_train, X_val, y_val)"
   ]
  },
  {
   "cell_type": "markdown",
   "id": "808cdd49-acd7-4eef-a51f-b8c03c19f591",
   "metadata": {},
   "source": [
    "#### Random Forest Takeaway\n",
    "- Random Forest achieved high accuracy on both train (93.39%) and validate (93.24%) data.\n",
    "- In terms of feature importance, BMI (b_m_i) plays a significant role (14.23%), followed by stroke (7.89%) and age_category_80 or older (7.57%).\n",
    "- The model's strong performance suggests that these features are influential in predicting heart disease."
   ]
  },
  {
   "cell_type": "markdown",
   "id": "8b84827f-ecdc-49ed-b648-d1978e97be33",
   "metadata": {},
   "source": [
    "### Model 3 (KNN)"
   ]
  },
  {
   "cell_type": "code",
   "execution_count": null,
   "id": "3b78aa63-f6f9-4d7b-8c2f-b6c20ef56e69",
   "metadata": {
    "scrolled": true
   },
   "outputs": [],
   "source": [
    "# Train a k-nearest neighbors (KNN) classifier using the training data and validate it on the validation data\n",
    "train_knn(X_train, y_train, X_val, y_val)"
   ]
  },
  {
   "cell_type": "markdown",
   "id": "ff3a0de6-5beb-4c87-bba0-5e65c1630c46",
   "metadata": {},
   "source": [
    "#### KNN Takeaway\n",
    "\n",
    "- K-Nearest Neighbors (KNN) achieved an accuracy of 93.18% on the training data and 93.20% on the validation data.\n",
    "- The KNN model was trained with 30 neighbors.\n",
    "- This suggests that KNN is a suitable algorithm for predicting heart disease in this dataset, given its strong performance on both training and validation sets."
   ]
  },
  {
   "cell_type": "markdown",
   "id": "9f9c61e4-baaa-4294-b38e-c1b8600ee712",
   "metadata": {},
   "source": [
    "### Model 4 (Logistic regression)"
   ]
  },
  {
   "cell_type": "code",
   "execution_count": null,
   "id": "d4ec28d0-f338-4839-a6d8-a0a0cc77f6f8",
   "metadata": {},
   "outputs": [],
   "source": [
    "# Train a logistic regression classifier using the training data and validate it on the validation data\n",
    "train_logistic_regression(X_train, y_train, X_val, y_val)"
   ]
  },
  {
   "cell_type": "markdown",
   "id": "f32b1f69-55fa-47fa-905f-d0a631d2eeeb",
   "metadata": {},
   "source": [
    "#### Logistic Regression Takeaway\n",
    "- Logistic Regression achieved an accuracy of 93.18% on the training data and 93.26% on the validation data.\n",
    "- Logistic Regression appears to be a promising model for predicting heart disease based on its high accuracy.\n",
    "- The model's performance on the validation set is slightly better than on the training set, indicating that it generalizes well to new data."
   ]
  },
  {
   "cell_type": "markdown",
   "id": "7dd8c680-dd0a-4aa3-96d4-377c3df9ba6c",
   "metadata": {},
   "source": [
    "## Test (logistic regression)"
   ]
  },
  {
   "cell_type": "code",
   "execution_count": null,
   "id": "b0b91f54-ef71-4626-8f10-3011b1721b80",
   "metadata": {},
   "outputs": [],
   "source": [
    "# Train a logistic regression classifier using the training data and test it on the test data\n",
    "test_logistic_regression(X_train, y_train, X_test, y_test)"
   ]
  },
  {
   "cell_type": "markdown",
   "id": "e93cbb75-2e96-4c1f-9c7f-2882514eae57",
   "metadata": {},
   "source": [
    "- The Logistic Regression model achieved an accuracy of 93.18% on the training data and 93.09% on the test data.\n",
    "- The test performance exceeded the baseline accuracy by approximately 12%, indicating the model's effectiveness in predicting heart disease."
   ]
  },
  {
   "cell_type": "markdown",
   "id": "13d3ff2d-4465-4e87-80ec-4ce1fcac3c27",
   "metadata": {},
   "source": [
    "## Model Summary\n",
    "\n",
    "**Decision Tree Classifier:**\n",
    "- Achieved high accuracy on training (93.54%) and validation (93.01%) data.\n",
    "- Identified stroke, older age (80 or older), and diabetes as the top three important features for predicting heart disease.\n",
    "\n",
    "**Random Forest Classifier:**\n",
    "- Demonstrated excellent accuracy on training (93.39%) and validation (93.24%) datasets.\n",
    "- Highlighted BMI, stroke, and age category (80 or older) as the most influential factors for heart disease prediction.\n",
    "\n",
    "**K-Nearest Neighbors (KNN):**\n",
    "- Achieved competitive accuracy on training (93.18%) and validation (93.20%) data with an optimal K-value of 30.\n",
    "- A suitable choice for heart disease prediction due to its strong performance.\n",
    "\n",
    "**Logistic Regression:**\n",
    "- Maintained consistent accuracy on both training (93.18%) and validation (93.26%) datasets.\n",
    "- Offers reliable predictive capabilities for heart disease based on the given features.\n",
    "\n",
    "These models all show promise in predicting heart disease, with high accuracy rates and distinct sets of important features. Further evaluation and fine-tuning may be needed to determine the optimal model for deployment in a real-world scenario."
   ]
  },
  {
   "cell_type": "markdown",
   "id": "854023c7-c78c-4228-a9d9-e4710f5f7a78",
   "metadata": {},
   "source": [
    "# Conclusion"
   ]
  },
  {
   "cell_type": "markdown",
   "id": "d67ed980-edcf-4368-88f2-5dc509ee8a89",
   "metadata": {},
   "source": [
    "**Key Findings:**\n",
    "\n",
    "- **Smoking vs. Heart Disease:** There is a significant association between smoking status and heart disease. Non-smokers have significantly lower chances of heart disease.\n",
    "\n",
    "- **BMI vs. Heart Disease:** BMI plays a crucial role in heart disease. Higher BMI levels are associated with an increased risk of heart disease.\n",
    "\n",
    "- **Physical Activity vs. Heart Disease:** Engaging in physical activity is linked to a reduced risk of heart disease. The two variables are not independent, suggesting that changes in one affect the other.\n",
    "\n",
    "- **Age vs. Heart Disease:** Age is a significant factor in heart disease. As individuals age, their risk of developing heart disease significantly increases.\n",
    "\n",
    "- **Sleep Time vs. Heart Disease:** While box plots initially showed no apparent difference, statistical tests revealed a significant association between sleep time and heart disease, suggesting that sleep duration might impact heart disease risk.\n"
   ]
  },
  {
   "cell_type": "markdown",
   "id": "11a80493-758f-462e-bda3-53d4d1f2a023",
   "metadata": {},
   "source": [
    "**Recommendations:**\n",
    "\n",
    "- **Lifestyle Interventions:** Encourage individuals to quit smoking and maintain a healthy BMI to reduce the risk of heart disease.\n",
    "\n",
    "- **Promote Physical Activity:** Advocate for regular physical activity, as it appears to be associated with a lower risk of heart disease.\n",
    "\n",
    "- **Regular Health Check-ups:** Emphasize the importance of regular health check-ups, especially for older individuals, to monitor and manage heart disease risk.\n",
    "\n",
    "- **Further Investigation:** Explore the relationship between sleep duration and heart disease in more detail to better understand its impact and potential interventions."
   ]
  },
  {
   "cell_type": "markdown",
   "id": "2a2cdf00-006b-4c32-96ff-d0c613ac02f3",
   "metadata": {},
   "source": [
    "**Next Steps:**\n",
    "\n",
    "- **Fine-Tune Models:** Continue fine-tuning and optimizing the selected models (Decision Tree, Random Forest, KNN, and Logistic Regression) to improve predictive accuracy.\n",
    "\n",
    "- **Ensemble Models:** Consider ensemble modeling techniques to combine the strengths of different models for enhanced predictive performance.\n",
    "\n",
    "- **Feature Engineering:** Explore additional feature engineering techniques and variables that could improve model performance.\n",
    "\n",
    "- **Validation:** Perform further validation of the models, potentially using cross-validation techniques, to ensure robustness and generalization.\n",
    "\n",
    "- **Deployment:** Prepare the selected model for deployment in a real-world healthcare setting, including developing user-friendly interfaces for healthcare professionals.\n",
    "\n",
    "- **Monitoring:** Implement continuous monitoring and updates to the model as new data becomes available, ensuring its relevance over time.\n",
    "\n",
    "- **Health Education:** Continue health education efforts to raise awareness of heart disease risk factors and prevention strategies in the community.\n",
    "\n",
    "By following these recommendations and next steps, you can build a robust heart disease prediction model and contribute to improved public health outcomes."
   ]
  }
 ],
 "metadata": {
  "kernelspec": {
   "display_name": "Python 3 (ipykernel)",
   "language": "python",
   "name": "python3"
  },
  "language_info": {
   "codemirror_mode": {
    "name": "ipython",
    "version": 3
   },
   "file_extension": ".py",
   "mimetype": "text/x-python",
   "name": "python",
   "nbconvert_exporter": "python",
   "pygments_lexer": "ipython3",
   "version": "3.10.12"
  }
 },
 "nbformat": 4,
 "nbformat_minor": 5
}
